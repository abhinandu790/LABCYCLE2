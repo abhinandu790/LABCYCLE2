{
  "nbformat": 4,
  "nbformat_minor": 0,
  "metadata": {
    "colab": {
      "provenance": []
    },
    "kernelspec": {
      "name": "python3",
      "display_name": "Python 3"
    },
    "language_info": {
      "name": "python"
    }
  },
  "cells": [
    {
      "cell_type": "markdown",
      "source": [
        "1.Suppose a newly born pair of rabbits, one male and one female, are\n",
        "put in a field. Rabbits can mate at the age of one month so that at the\n",
        "end of its second month, a female has produced another pair of\n",
        "rabbits. Suppose that our rabbits never die and that the female always\n",
        "produces one new pair every month from the second month.\n",
        "\n",
        "Develop a program to show a table containing the number of pairs of rabbits in the first N months.\n"
      ],
      "metadata": {
        "id": "6dQDhF7yoOBq"
      }
    },
    {
      "cell_type": "code",
      "source": [
        "def rabbit_pairs(n):\n",
        "    if n==0:\n",
        "       return[0]\n",
        "    elif n==1:\n",
        "        return [0,1]\n",
        "    else:\n",
        "        months =[0,1]\n",
        "        for i in range(2, n+1):\n",
        "            new_pairs=months[i-1]\n",
        "            if i>=2:\n",
        "                new_pairs += months[i-2]\n",
        "            months.append(new_pairs)\n",
        "        return months\n",
        "\n",
        "n=int(input(\"Enter the number of months: \"))\n",
        "rabbit_pairs_list=rabbit_pairs(n)\n",
        "\n",
        "print(f\"{'Month':<10}{'Pairs of Rabbits'}\")\n",
        "for i in range(1,n+1):\n",
        "    print(f\"{i:<10}{rabbit_pairs_list[i]}\")"
      ],
      "metadata": {
        "id": "2h5dBBb_krbA"
      },
      "execution_count": null,
      "outputs": []
    },
    {
      "cell_type": "markdown",
      "source": [
        "2.Write a program to read a string containing numbers separated by a\n",
        "space and convert it as a list of integers. Perform the following\n",
        "operations on it.\n",
        "1. Rotate elements in a list by 'k' position to the right\n",
        "2. Convert the list into a tuple using list comprehension\n",
        "3. Remove all duplicates from the tuple and convert them\n",
        "into a list again.\n",
        "4. Create another list by putting the results of the evaluation\n",
        "of the function 𝑓(𝑥) = 𝑥\n",
        "2 – 𝑥 with each element in the\n",
        "final list\n",
        "5. After sorting them individually, merge the two lists to\n",
        "create a single sorted list."
      ],
      "metadata": {
        "id": "Gp7W6Mg9p6P8"
      }
    },
    {
      "cell_type": "code",
      "source": [
        "def rotate_list(nums,k):\n",
        "    k=k%len(nums)\n",
        "    return nums[-k:]+nums[:-k]\n",
        "\n",
        "def remove_duplicates(t):\n",
        "    return list(set(t))\n",
        "\n",
        "def evaluate_function(nums):\n",
        "    return [x**2-x for x in nums]\n",
        "\n",
        "input_string=input(\"Enter a string of numbers separated by a space:\")\n",
        "k=int(input(\"Enter the number of position to rotate:\"))\n",
        "\n",
        "numbers=list(map(int,input_string.split()))\n",
        "print(\"Original List:\",rotated_numbers)\n",
        "\n",
        "rotated_numbers=rotate_list(numbers,k)\n",
        "print(\"Rotated List:\",rotated_numbers)\n",
        "\n",
        "numbers_tuple=tuple([num for num in rotated_numbers])\n",
        "print(\"Tuple:\",numbers_tuple)\n",
        "\n",
        "unique_numbers=remove_duplicates(numbers_tuple)\n",
        "print(\"Unique Numbers List:\",unique_numbers)\n",
        "\n",
        "evaluated_numbers=evaluate_function(unique_numbers)\n",
        "print(\"Evaluated Numbers List:\",evaluated_numbers)\n",
        "\n",
        "unique_numbers.sort()\n",
        "evaluated_numbers.sort()\n",
        "\n",
        "merged_sorted_list=sorted(unique_numbers+evaluated_numbers)\n",
        "print(\"Merged Sort List:\",merged_sorted_list)\n"
      ],
      "metadata": {
        "id": "kGhjeIsY7aVX"
      },
      "execution_count": null,
      "outputs": []
    },
    {
      "cell_type": "markdown",
      "source": [
        "3.Read the file 'iris.json' as a text file :\n",
        "1. Create a list having each line of the file as an element\n",
        "2. Convert it into a list of dictionary objects.\n",
        "3. Show the details of all flowers whose species is\n",
        "\"setosa\".\n",
        "4. Print the minimum petal area and max sepal area in\n",
        "each species\n",
        "5. Sort the list of dictionaries according to the total area\n",
        "are sepal and petal."
      ],
      "metadata": {
        "id": "GXZfWRwGNEGw"
      }
    },
    {
      "cell_type": "code",
      "source": [
        "import json\n",
        "\n",
        "#create a list with elements from file\n",
        "\n",
        "file = open(\"iris.json\", \"r\")\n",
        "txt_file = file.read()\n",
        "print(txt_file)\n",
        "\n",
        "def total_area(flower):\n",
        "    sepal_area = flower.get(\"sepalLength\") * flower.get(\"sepalWidth\")\n",
        "    petal_area = flower.get(\"petalLength\") * flower.get(\"petalWidth\")\n",
        "    return sepal_area + petal_area\n",
        "\n",
        "# creating a list of dictionary objects\n",
        "\n",
        "l_o_d = json.loads(txt_file)\n",
        "\n",
        "# details of the flower species naming setosta\n",
        "\n",
        "for i in l_o_d:\n",
        "    if i.get(\"species\") == \"setosa\":\n",
        "        print(i)\n",
        "\n",
        "petal_lst = []\n",
        "sepal_lst = []\n",
        "for j in l_o_d:\n",
        "    sepal_length = j.get('sepalLength')\n",
        "    sepal_width = j.get('sepalWidth')\n",
        "    petal_length = j.get('petalLength')\n",
        "    petal_width = j.get('petalWidth')\n",
        "\n",
        "    # Check for None\n",
        "    if all(v is not None for v in [sepal_length, sepal_width, petal_length, petal_width]):\n",
        "        petal_area = round(petal_length * petal_width, 2)\n",
        "        petal_lst.append(petal_area)\n",
        "        sepal_area = round(sepal_length * sepal_width, 2)\n",
        "        sepal_lst.append(sepal_area)\n",
        "    else:\n",
        "        print(\"Missing values for some attributes in the data.\")\n",
        "\n",
        "# Print the minimum petal area and max sepal area in each species\n",
        "\n",
        "print(\"MAXIMUM SEPAL AREA:\", max(sepal_lst))\n",
        "print(\"MINIMUM PETAL AREA:\", min(petal_lst))\n",
        "\n",
        "#Sort the list of dictionaries according to the total area for sepal and petal\n",
        "\n",
        "sorted_list = sorted(l_o_d, key=total_area, reverse=True)\n",
        "print(\"Sorted List based on Total Area:\")\n",
        "for item in sorted_list:\n",
        "    print(item)"
      ],
      "metadata": {
        "id": "hlOxCRER__Lc"
      },
      "execution_count": null,
      "outputs": []
    },
    {
      "cell_type": "markdown",
      "source": [
        "4.Write a program to create a class Box with data members length,\n",
        "breadth, height, area, and volume. Provider constructor that enables\n",
        "initialization with one parameter (for cube), two parameters (for\n",
        "square prism) three parameters (rectangular prism). Also, provide\n",
        "functions to calculate area and volume.\n",
        "\n",
        "Create a list of N boxes with random measurements and print the\n",
        "details of the box with maximum volume: area ratio."
      ],
      "metadata": {
        "id": "YFmaXA7mCcFG"
      }
    },
    {
      "cell_type": "code",
      "source": [
        "import random\n",
        "class Box:\n",
        "  def __init__(self,length=0,height=None,breadth=None):\n",
        "    self.length=length\n",
        "    self.height=length if height is None else height\n",
        "    self.breadth=breadth if breadth is None else breadth\n",
        "    self.area=0\n",
        "    self.volume=0\n",
        "  def calcarea(self):\n",
        "    self.area=2*(self.breadth*self.length+self.height*self.length+self.height*self.breadth)\n",
        "    return self.area\n",
        "  def calcvol(self):\n",
        "    self.volume=self.length*self.breadth*self.height\n",
        "    return self.volume\n",
        "n=int(input(\"Enter the number of boxes:\"))\n",
        "boxes=[]\n",
        "for i in range(n):\n",
        "  length=random.randint(1,10)\n",
        "  breadth=random.randint(1,10)\n",
        "  height=random.randint(1,10)\n",
        "  bo=Box(length,height,breadth)\n",
        "  boxes.append(bo)\n",
        "maxratio = max(boxes, key=lambda box: box.calcvol() / box.calcarea())\n",
        "print(\" The details of the box with maximum volume: area ratio:\")\n",
        "print(\"Length:\", maxratio.length)\n",
        "print(\"Breadth:\", maxratio.breadth)\n",
        "print(\"Height:\", maxratio.height)\n",
        "print(\"The maximum ratio is:\", maxratio.calcvol()/maxratio.calcarea())\n"
      ],
      "metadata": {
        "id": "OYb_U-NVjzJw"
      },
      "execution_count": null,
      "outputs": []
    },
    {
      "cell_type": "markdown",
      "source": [
        "5. Write a program to create a parent class, 3DShapes, with methods\n",
        "printVolume() and printArea(), which prints the Volume and Area,\n",
        "respectively. Create classes Cylinder and Sphere by inheriting\n",
        "3DShapes class. Using these child classes, calculate and print the\n",
        "volume and area of a cylinder and sphere."
      ],
      "metadata": {
        "id": "FCi-fZOsLfs5"
      }
    },
    {
      "cell_type": "code",
      "source": [
        "import math\n",
        "\n",
        "class _3DShapes:\n",
        "    def printVolume(self):\n",
        "        pass\n",
        "\n",
        "    def printArea(self):\n",
        "        pass\n",
        "\n",
        "class Cylinder(_3DShapes):\n",
        "    def __init__(self, radius, height):\n",
        "        self.radius = radius\n",
        "        self.height = height\n",
        "\n",
        "    def printVolume(self):\n",
        "        volume = math.pi * (self.radius ** 2) * self.height\n",
        "        print(f\"The volume of the cylinder is {volume} cubic units.\")\n",
        "\n",
        "    def printArea(self):\n",
        "        area = 2 * math.pi * self.radius * (self.radius + self.height)\n",
        "        print(f\"The surface area of the cylinder is {area} square units.\")\n",
        "\n",
        "class Sphere(_3DShapes):\n",
        "    def __init__(self, radius):\n",
        "        self.radius = radius\n",
        "\n",
        "    def printVolume(self):\n",
        "        volume = (4/3) * math.pi * (self.radius ** 3)\n",
        "        print(f\"The volume of the sphere is {volume} cubic units.\")\n",
        "\n",
        "    def printArea(self):\n",
        "        area = 4 * math.pi * (self.radius ** 2)\n",
        "        print(f\"The surface area of the sphere is {area} square units.\")\n",
        "\n",
        "# Ask for user input\n",
        "shape = input(\"Enter the shape (Cylinder or Sphere): \")\n",
        "if shape.lower() == \"cylinder\":\n",
        "    radius = float(input(\"Enter the radius of the cylinder: \"))\n",
        "    height = float(input(\"Enter the height of the cylinder: \"))\n",
        "    cylinder = Cylinder(radius, height)\n",
        "    cylinder.printVolume()\n",
        "    cylinder.printArea()\n",
        "elif shape.lower() == \"sphere\":\n",
        "    radius = float(input(\"Enter the radius of the sphere: \"))\n",
        "    sphere = Sphere(radius)\n",
        "    sphere.printVolume()\n",
        "    sphere.printArea()\n",
        "else:\n",
        "    print(\"Invalid shape. Please enter either Cylinder or Sphere.\")\n"
      ],
      "metadata": {
        "id": "rfXSuzdELi4Z"
      },
      "execution_count": null,
      "outputs": []
    }
  ]
}